{
 "cells": [
  {
   "cell_type": "code",
   "execution_count": 1,
   "metadata": {},
   "outputs": [],
   "source": [
    "import os\n",
    "import pydicom\n",
    "import numpy as np\n",
    "import pandas as pd\n",
    "import matplotlib.pyplot as plt\n",
    "import cv2\n",
    "import math"
   ]
  },
  {
   "cell_type": "code",
   "execution_count": 37,
   "metadata": {},
   "outputs": [],
   "source": [
    "dataset_path = 'sample_images'\n",
    "csv_file = 'stage1_labels2.csv'\n",
    "labels_df = pd.read_csv(csv_file)"
   ]
  },
  {
   "cell_type": "code",
   "execution_count": 38,
   "metadata": {},
   "outputs": [],
   "source": [
    "patients = os.listdir(dataset_path)"
   ]
  },
  {
   "cell_type": "code",
   "execution_count": 39,
   "metadata": {},
   "outputs": [
    {
     "data": {
      "text/html": [
       "<div>\n",
       "<style scoped>\n",
       "    .dataframe tbody tr th:only-of-type {\n",
       "        vertical-align: middle;\n",
       "    }\n",
       "\n",
       "    .dataframe tbody tr th {\n",
       "        vertical-align: top;\n",
       "    }\n",
       "\n",
       "    .dataframe thead th {\n",
       "        text-align: right;\n",
       "    }\n",
       "</style>\n",
       "<table border=\"1\" class=\"dataframe\">\n",
       "  <thead>\n",
       "    <tr style=\"text-align: right;\">\n",
       "      <th></th>\n",
       "      <th>id</th>\n",
       "      <th>cancer</th>\n",
       "    </tr>\n",
       "  </thead>\n",
       "  <tbody>\n",
       "    <tr>\n",
       "      <th>0</th>\n",
       "      <td>0a38e7597ca26f9374f8ea2770ba870d</td>\n",
       "      <td>0</td>\n",
       "    </tr>\n",
       "    <tr>\n",
       "      <th>1</th>\n",
       "      <td>R_056</td>\n",
       "      <td>1</td>\n",
       "    </tr>\n",
       "    <tr>\n",
       "      <th>2</th>\n",
       "      <td>0ddeb08e9c97227853422bd71a2a695e</td>\n",
       "      <td>0</td>\n",
       "    </tr>\n",
       "    <tr>\n",
       "      <th>3</th>\n",
       "      <td>00cba091fa4ad62cc3200a657aeb957e</td>\n",
       "      <td>0</td>\n",
       "    </tr>\n",
       "    <tr>\n",
       "      <th>4</th>\n",
       "      <td>fbe0c3d6e4a50ca1c1bd3101515d0ab4</td>\n",
       "      <td>0</td>\n",
       "    </tr>\n",
       "  </tbody>\n",
       "</table>\n",
       "</div>"
      ],
      "text/plain": [
       "                                 id  cancer\n",
       "0  0a38e7597ca26f9374f8ea2770ba870d       0\n",
       "1                             R_056       1\n",
       "2  0ddeb08e9c97227853422bd71a2a695e       0\n",
       "3  00cba091fa4ad62cc3200a657aeb957e       0\n",
       "4  fbe0c3d6e4a50ca1c1bd3101515d0ab4       0"
      ]
     },
     "execution_count": 39,
     "metadata": {},
     "output_type": "execute_result"
    }
   ],
   "source": [
    "labels_df.head()"
   ]
  },
  {
   "cell_type": "code",
   "execution_count": 40,
   "metadata": {},
   "outputs": [
    {
     "ename": "KeyError",
     "evalue": "'00cba091fa4ad62cc3200a657aeb957e'",
     "output_type": "error",
     "traceback": [
      "\u001b[1;31m---------------------------------------------------------------------------\u001b[0m",
      "\u001b[1;31mKeyError\u001b[0m                                  Traceback (most recent call last)",
      "Cell \u001b[1;32mIn[40], line 2\u001b[0m\n\u001b[0;32m      1\u001b[0m \u001b[38;5;28;01mfor\u001b[39;00m patient \u001b[38;5;129;01min\u001b[39;00m patients :\n\u001b[1;32m----> 2\u001b[0m     label \u001b[38;5;241m=\u001b[39m labels_df\u001b[38;5;241m.\u001b[39mloc[patient, \u001b[38;5;124m'\u001b[39m\u001b[38;5;124mcancer\u001b[39m\u001b[38;5;124m'\u001b[39m]\n\u001b[0;32m      3\u001b[0m     path \u001b[38;5;241m=\u001b[39m dataset_path \u001b[38;5;241m+\u001b[39m \u001b[38;5;124m'\u001b[39m\u001b[38;5;124m/\u001b[39m\u001b[38;5;124m'\u001b[39m \u001b[38;5;241m+\u001b[39m patient\n\u001b[0;32m      4\u001b[0m     slices \u001b[38;5;241m=\u001b[39m [pydicom\u001b[38;5;241m.\u001b[39mdcmread(path \u001b[38;5;241m+\u001b[39m \u001b[38;5;124m'\u001b[39m\u001b[38;5;124m/\u001b[39m\u001b[38;5;124m'\u001b[39m \u001b[38;5;241m+\u001b[39m s) \u001b[38;5;28;01mfor\u001b[39;00m s \u001b[38;5;129;01min\u001b[39;00m os\u001b[38;5;241m.\u001b[39mlistdir(path)]\n",
      "File \u001b[1;32m~\\anaconda3\\Lib\\site-packages\\pandas\\core\\indexing.py:1066\u001b[0m, in \u001b[0;36m_LocationIndexer.__getitem__\u001b[1;34m(self, key)\u001b[0m\n\u001b[0;32m   1064\u001b[0m     key \u001b[38;5;241m=\u001b[39m \u001b[38;5;28mtuple\u001b[39m(com\u001b[38;5;241m.\u001b[39mapply_if_callable(x, \u001b[38;5;28mself\u001b[39m\u001b[38;5;241m.\u001b[39mobj) \u001b[38;5;28;01mfor\u001b[39;00m x \u001b[38;5;129;01min\u001b[39;00m key)\n\u001b[0;32m   1065\u001b[0m     \u001b[38;5;28;01mif\u001b[39;00m \u001b[38;5;28mself\u001b[39m\u001b[38;5;241m.\u001b[39m_is_scalar_access(key):\n\u001b[1;32m-> 1066\u001b[0m         \u001b[38;5;28;01mreturn\u001b[39;00m \u001b[38;5;28mself\u001b[39m\u001b[38;5;241m.\u001b[39mobj\u001b[38;5;241m.\u001b[39m_get_value(\u001b[38;5;241m*\u001b[39mkey, takeable\u001b[38;5;241m=\u001b[39m\u001b[38;5;28mself\u001b[39m\u001b[38;5;241m.\u001b[39m_takeable)\n\u001b[0;32m   1067\u001b[0m     \u001b[38;5;28;01mreturn\u001b[39;00m \u001b[38;5;28mself\u001b[39m\u001b[38;5;241m.\u001b[39m_getitem_tuple(key)\n\u001b[0;32m   1068\u001b[0m \u001b[38;5;28;01melse\u001b[39;00m:\n\u001b[0;32m   1069\u001b[0m     \u001b[38;5;66;03m# we by definition only have the 0th axis\u001b[39;00m\n",
      "File \u001b[1;32m~\\anaconda3\\Lib\\site-packages\\pandas\\core\\frame.py:3924\u001b[0m, in \u001b[0;36mDataFrame._get_value\u001b[1;34m(self, index, col, takeable)\u001b[0m\n\u001b[0;32m   3918\u001b[0m engine \u001b[38;5;241m=\u001b[39m \u001b[38;5;28mself\u001b[39m\u001b[38;5;241m.\u001b[39mindex\u001b[38;5;241m.\u001b[39m_engine\n\u001b[0;32m   3920\u001b[0m \u001b[38;5;28;01mif\u001b[39;00m \u001b[38;5;129;01mnot\u001b[39;00m \u001b[38;5;28misinstance\u001b[39m(\u001b[38;5;28mself\u001b[39m\u001b[38;5;241m.\u001b[39mindex, MultiIndex):\n\u001b[0;32m   3921\u001b[0m     \u001b[38;5;66;03m# CategoricalIndex: Trying to use the engine fastpath may give incorrect\u001b[39;00m\n\u001b[0;32m   3922\u001b[0m     \u001b[38;5;66;03m#  results if our categories are integers that dont match our codes\u001b[39;00m\n\u001b[0;32m   3923\u001b[0m     \u001b[38;5;66;03m# IntervalIndex: IntervalTree has no get_loc\u001b[39;00m\n\u001b[1;32m-> 3924\u001b[0m     row \u001b[38;5;241m=\u001b[39m \u001b[38;5;28mself\u001b[39m\u001b[38;5;241m.\u001b[39mindex\u001b[38;5;241m.\u001b[39mget_loc(index)\n\u001b[0;32m   3925\u001b[0m     \u001b[38;5;28;01mreturn\u001b[39;00m series\u001b[38;5;241m.\u001b[39m_values[row]\n\u001b[0;32m   3927\u001b[0m \u001b[38;5;66;03m# For MultiIndex going through engine effectively restricts us to\u001b[39;00m\n\u001b[0;32m   3928\u001b[0m \u001b[38;5;66;03m#  same-length tuples; see test_get_set_value_no_partial_indexing\u001b[39;00m\n",
      "File \u001b[1;32m~\\anaconda3\\Lib\\site-packages\\pandas\\core\\indexes\\range.py:395\u001b[0m, in \u001b[0;36mRangeIndex.get_loc\u001b[1;34m(self, key, method, tolerance)\u001b[0m\n\u001b[0;32m    393\u001b[0m             \u001b[38;5;28;01mraise\u001b[39;00m \u001b[38;5;167;01mKeyError\u001b[39;00m(key) \u001b[38;5;28;01mfrom\u001b[39;00m \u001b[38;5;21;01merr\u001b[39;00m\n\u001b[0;32m    394\u001b[0m     \u001b[38;5;28mself\u001b[39m\u001b[38;5;241m.\u001b[39m_check_indexing_error(key)\n\u001b[1;32m--> 395\u001b[0m     \u001b[38;5;28;01mraise\u001b[39;00m \u001b[38;5;167;01mKeyError\u001b[39;00m(key)\n\u001b[0;32m    396\u001b[0m \u001b[38;5;28;01mreturn\u001b[39;00m \u001b[38;5;28msuper\u001b[39m()\u001b[38;5;241m.\u001b[39mget_loc(key, method\u001b[38;5;241m=\u001b[39mmethod, tolerance\u001b[38;5;241m=\u001b[39mtolerance)\n",
      "\u001b[1;31mKeyError\u001b[0m: '00cba091fa4ad62cc3200a657aeb957e'"
     ]
    }
   ],
   "source": [
    "for patient in patients :\n",
    "    label = labels_df.loc[patient, 'cancer']\n",
    "    path = dataset_path + '/' + patient\n",
    "    slices = [pydicom.dcmread(path + '/' + s) for s in os.listdir(path)]\n",
    "    slices.sort(key = lambda x: float(x.ImagePositionPatient[2]))\n",
    "    print(len(slices),slices[0].pixel_array.shape)"
   ]
  },
  {
   "cell_type": "code",
   "execution_count": 41,
   "metadata": {},
   "outputs": [
    {
     "data": {
      "text/plain": [
       "74"
      ]
     },
     "execution_count": 41,
     "metadata": {},
     "output_type": "execute_result"
    }
   ],
   "source": [
    "len(patients)"
   ]
  },
  {
   "cell_type": "code",
   "execution_count": 42,
   "metadata": {},
   "outputs": [
    {
     "ename": "KeyError",
     "evalue": "'00cba091fa4ad62cc3200a657aeb957e'",
     "output_type": "error",
     "traceback": [
      "\u001b[1;31m---------------------------------------------------------------------------\u001b[0m",
      "\u001b[1;31mKeyError\u001b[0m                                  Traceback (most recent call last)",
      "Cell \u001b[1;32mIn[42], line 4\u001b[0m\n\u001b[0;32m      1\u001b[0m IMG_PXL_SIZE \u001b[38;5;241m=\u001b[39m \u001b[38;5;241m150\u001b[39m\n\u001b[0;32m      3\u001b[0m \u001b[38;5;28;01mfor\u001b[39;00m patient \u001b[38;5;129;01min\u001b[39;00m patients[:\u001b[38;5;241m1\u001b[39m] :\n\u001b[1;32m----> 4\u001b[0m     label \u001b[38;5;241m=\u001b[39m labels_df\u001b[38;5;241m.\u001b[39mloc[patient, \u001b[38;5;124m'\u001b[39m\u001b[38;5;124mcancer\u001b[39m\u001b[38;5;124m'\u001b[39m]\n\u001b[0;32m      5\u001b[0m     path \u001b[38;5;241m=\u001b[39m dataset_path \u001b[38;5;241m+\u001b[39m \u001b[38;5;124m'\u001b[39m\u001b[38;5;124m/\u001b[39m\u001b[38;5;124m'\u001b[39m \u001b[38;5;241m+\u001b[39m patient\n\u001b[0;32m      6\u001b[0m     slices \u001b[38;5;241m=\u001b[39m [pydicom\u001b[38;5;241m.\u001b[39mdcmread(path \u001b[38;5;241m+\u001b[39m \u001b[38;5;124m'\u001b[39m\u001b[38;5;124m/\u001b[39m\u001b[38;5;124m'\u001b[39m \u001b[38;5;241m+\u001b[39m s) \u001b[38;5;28;01mfor\u001b[39;00m s \u001b[38;5;129;01min\u001b[39;00m os\u001b[38;5;241m.\u001b[39mlistdir(path)]\n",
      "File \u001b[1;32m~\\anaconda3\\Lib\\site-packages\\pandas\\core\\indexing.py:1066\u001b[0m, in \u001b[0;36m_LocationIndexer.__getitem__\u001b[1;34m(self, key)\u001b[0m\n\u001b[0;32m   1064\u001b[0m     key \u001b[38;5;241m=\u001b[39m \u001b[38;5;28mtuple\u001b[39m(com\u001b[38;5;241m.\u001b[39mapply_if_callable(x, \u001b[38;5;28mself\u001b[39m\u001b[38;5;241m.\u001b[39mobj) \u001b[38;5;28;01mfor\u001b[39;00m x \u001b[38;5;129;01min\u001b[39;00m key)\n\u001b[0;32m   1065\u001b[0m     \u001b[38;5;28;01mif\u001b[39;00m \u001b[38;5;28mself\u001b[39m\u001b[38;5;241m.\u001b[39m_is_scalar_access(key):\n\u001b[1;32m-> 1066\u001b[0m         \u001b[38;5;28;01mreturn\u001b[39;00m \u001b[38;5;28mself\u001b[39m\u001b[38;5;241m.\u001b[39mobj\u001b[38;5;241m.\u001b[39m_get_value(\u001b[38;5;241m*\u001b[39mkey, takeable\u001b[38;5;241m=\u001b[39m\u001b[38;5;28mself\u001b[39m\u001b[38;5;241m.\u001b[39m_takeable)\n\u001b[0;32m   1067\u001b[0m     \u001b[38;5;28;01mreturn\u001b[39;00m \u001b[38;5;28mself\u001b[39m\u001b[38;5;241m.\u001b[39m_getitem_tuple(key)\n\u001b[0;32m   1068\u001b[0m \u001b[38;5;28;01melse\u001b[39;00m:\n\u001b[0;32m   1069\u001b[0m     \u001b[38;5;66;03m# we by definition only have the 0th axis\u001b[39;00m\n",
      "File \u001b[1;32m~\\anaconda3\\Lib\\site-packages\\pandas\\core\\frame.py:3924\u001b[0m, in \u001b[0;36mDataFrame._get_value\u001b[1;34m(self, index, col, takeable)\u001b[0m\n\u001b[0;32m   3918\u001b[0m engine \u001b[38;5;241m=\u001b[39m \u001b[38;5;28mself\u001b[39m\u001b[38;5;241m.\u001b[39mindex\u001b[38;5;241m.\u001b[39m_engine\n\u001b[0;32m   3920\u001b[0m \u001b[38;5;28;01mif\u001b[39;00m \u001b[38;5;129;01mnot\u001b[39;00m \u001b[38;5;28misinstance\u001b[39m(\u001b[38;5;28mself\u001b[39m\u001b[38;5;241m.\u001b[39mindex, MultiIndex):\n\u001b[0;32m   3921\u001b[0m     \u001b[38;5;66;03m# CategoricalIndex: Trying to use the engine fastpath may give incorrect\u001b[39;00m\n\u001b[0;32m   3922\u001b[0m     \u001b[38;5;66;03m#  results if our categories are integers that dont match our codes\u001b[39;00m\n\u001b[0;32m   3923\u001b[0m     \u001b[38;5;66;03m# IntervalIndex: IntervalTree has no get_loc\u001b[39;00m\n\u001b[1;32m-> 3924\u001b[0m     row \u001b[38;5;241m=\u001b[39m \u001b[38;5;28mself\u001b[39m\u001b[38;5;241m.\u001b[39mindex\u001b[38;5;241m.\u001b[39mget_loc(index)\n\u001b[0;32m   3925\u001b[0m     \u001b[38;5;28;01mreturn\u001b[39;00m series\u001b[38;5;241m.\u001b[39m_values[row]\n\u001b[0;32m   3927\u001b[0m \u001b[38;5;66;03m# For MultiIndex going through engine effectively restricts us to\u001b[39;00m\n\u001b[0;32m   3928\u001b[0m \u001b[38;5;66;03m#  same-length tuples; see test_get_set_value_no_partial_indexing\u001b[39;00m\n",
      "File \u001b[1;32m~\\anaconda3\\Lib\\site-packages\\pandas\\core\\indexes\\range.py:395\u001b[0m, in \u001b[0;36mRangeIndex.get_loc\u001b[1;34m(self, key, method, tolerance)\u001b[0m\n\u001b[0;32m    393\u001b[0m             \u001b[38;5;28;01mraise\u001b[39;00m \u001b[38;5;167;01mKeyError\u001b[39;00m(key) \u001b[38;5;28;01mfrom\u001b[39;00m \u001b[38;5;21;01merr\u001b[39;00m\n\u001b[0;32m    394\u001b[0m     \u001b[38;5;28mself\u001b[39m\u001b[38;5;241m.\u001b[39m_check_indexing_error(key)\n\u001b[1;32m--> 395\u001b[0m     \u001b[38;5;28;01mraise\u001b[39;00m \u001b[38;5;167;01mKeyError\u001b[39;00m(key)\n\u001b[0;32m    396\u001b[0m \u001b[38;5;28;01mreturn\u001b[39;00m \u001b[38;5;28msuper\u001b[39m()\u001b[38;5;241m.\u001b[39mget_loc(key, method\u001b[38;5;241m=\u001b[39mmethod, tolerance\u001b[38;5;241m=\u001b[39mtolerance)\n",
      "\u001b[1;31mKeyError\u001b[0m: '00cba091fa4ad62cc3200a657aeb957e'"
     ]
    }
   ],
   "source": [
    "IMG_PXL_SIZE = 150\n",
    "\n",
    "for patient in patients[:1] :\n",
    "    label = labels_df.loc[patient, 'cancer']\n",
    "    path = dataset_path + '/' + patient\n",
    "    slices = [pydicom.dcmread(path + '/' + s) for s in os.listdir(path)]\n",
    "    slices.sort(key = lambda x: float(x.ImagePositionPatient[2]))\n",
    "    fig = plt.figure()\n",
    "    for num,each_slice in enumerate(slices[:16]) :\n",
    "        y = fig.add_subplot(4,4,num+1)\n",
    "        new_image = cv2.resize(np.array(each_slice.pixel_array),(IMG_PXL_SIZE,IMG_PXL_SIZE))\n",
    "        y.imshow(new_image)\n",
    "    plt.show()"
   ]
  },
  {
   "cell_type": "code",
   "execution_count": 43,
   "metadata": {},
   "outputs": [],
   "source": [
    "# Helper function to pad or crop slices\n",
    "def adjust_slices(slices, target_count):\n",
    "    if len(slices) < target_count:\n",
    "        # Pad by repeating slices\n",
    "        pad_count = target_count - len(slices)\n",
    "        slices = np.pad(slices, ((0, pad_count), (0, 0), (0, 0)), mode=\"wrap\")\n",
    "    elif len(slices) > target_count:\n",
    "        # Crop to target count\n",
    "        start_idx = (len(slices) - target_count) // 2\n",
    "        slices = slices[start_idx : start_idx + target_count]\n",
    "    return slices"
   ]
  },
  {
   "cell_type": "code",
   "execution_count": 44,
   "metadata": {},
   "outputs": [],
   "source": [
    "TARGET_SLICE_COUNT = 64  # Number of slices per patient\n",
    "TARGET_SLICE_DIMENSIONS = (128, 128)  # Dimensions of each slice"
   ]
  },
  {
   "cell_type": "code",
   "execution_count": 45,
   "metadata": {},
   "outputs": [],
   "source": [
    "# Helper function: Preprocess a single patient's folder\n",
    "def preprocess_patient(patient_folder):\n",
    "    slices = []\n",
    "    for file_name in sorted(os.listdir(patient_folder)):\n",
    "        file_path = os.path.join(patient_folder, file_name)\n",
    "        try:\n",
    "            ds = pydicom.dcmread(file_path)\n",
    "            img = ds.pixel_array\n",
    "            resized_img = cv2.resize(img, TARGET_SLICE_DIMENSIONS)\n",
    "            slices.append(resized_img)\n",
    "        except Exception as e:\n",
    "            print(f\"Error reading file {file_path}: {e}\")\n",
    "    return adjust_slices(slices, TARGET_SLICE_COUNT)"
   ]
  },
  {
   "cell_type": "code",
   "execution_count": 46,
   "metadata": {},
   "outputs": [],
   "source": [
    "labels = labels_df.set_index(\"id\").to_dict()[\"cancer\"]"
   ]
  },
  {
   "cell_type": "code",
   "execution_count": 47,
   "metadata": {},
   "outputs": [
    {
     "name": "stdout",
     "output_type": "stream",
     "text": [
      "Processing patient: 00cba091fa4ad62cc3200a657aeb957e\n",
      "Processing patient: 00edff4f51a893d80dae2d42a7f45ad1\n",
      "Processing patient: 0a099f2549429d29b32f349e95fb2244\n",
      "Processing patient: 0a0c32c9e08cc2ea76a71649de56be6d\n",
      "Processing patient: 0a38e7597ca26f9374f8ea2770ba870d\n",
      "Processing patient: 0acbebb8d463b4b9ca88cf38431aac69\n",
      "Processing patient: 0b20184e0cd497028bdd155d9fb42dc9\n",
      "Processing patient: 0bd0e3056cbf23a1cb7f0f0b18446068\n",
      "Processing patient: 0c0de3749d4fe175b7a5098b060982a1\n",
      "Processing patient: 0c37613214faddf8701ca41e6d43f56e\n",
      "Processing patient: 0c59313f52304e25d5a7dcf9877633b1\n",
      "Processing patient: 0c60f4b87afcb3e2dfa65abbbf3ef2f9\n",
      "Processing patient: 0c98fcb55e3f36d0c2b6507f62f4c5f1\n",
      "Processing patient: 0c9d8314f9c69840e25febabb1229fa4\n",
      "Processing patient: 0ca943d821204ceb089510f836a367fd\n",
      "Processing patient: 0d06d764d3c07572074d468b4cff954f\n",
      "Processing patient: 0d19f1c627df49eb223771c28548350e\n",
      "Processing patient: 0d2fcf787026fece4e57be167d079383\n",
      "Processing patient: 0d941a3ad6c889ac451caf89c46cb92a\n",
      "Processing patient: 0ddeb08e9c97227853422bd71a2a695e\n",
      "Processing patient: 0de72529c30fe642bc60dcb75c87f6bd\n",
      "Processing patient: 0e7ffa620c6db473b70c8454f215306b\n",
      "Processing patient: 0eafe9b9182b80c6d67015a2062f5143\n",
      "Processing patient: 0eb39d23d0f68ade9b5d8e6b3aee04d2\n",
      "Processing patient: 0ee336c585bf7eb1011df476891c5102\n",
      "Processing patient: fb55849cee6473974612c17f094a38cd\n",
      "Processing patient: fb5874408966d7c6bebd3d84a5599e20\n",
      "Processing patient: fb99a80cbb2f441bb90135bab5b029fe\n",
      "Processing patient: fbaa8548e6c3753836579c7987d0034d\n",
      "Processing patient: fbae4d04285789dfa32124c86586dd09\n",
      "Processing patient: fbe0c3d6e4a50ca1c1bd3101515d0ab4\n",
      "Processing patient: fc545aa2f58509dc6d81ef02130b6906\n",
      "Processing patient: fc658f9bc12a751a17f16589f9e3619b\n",
      "Processing patient: fcdc2d423356d53759a8f602d40785a6\n",
      "Processing patient: fcfab3eddbdf0421c39f71d651cc5c56\n",
      "Processing patient: fd0c2dfe0b0c58330675c3191cef0d5b\n",
      "Processing patient: fd2dd970bd3d91e5b26d7e57c03f70af\n",
      "Processing patient: fd4c2d4738bc25a5c331dbc101f3323a\n",
      "Processing patient: fd64b23b8cd8c371c8f76fbb503e4e0e\n",
      "Processing patient: fd7c0fb3c0e764357aa58e5f047be614\n",
      "Processing patient: fda187bfb1d6a2ecd4abd862c7f7f94c\n",
      "Processing patient: fdcd385b0d2d12341661e1abe845be0b\n",
      "Processing patient: fdf2a2f5b86aea0da54732056fc7ab48\n",
      "Processing patient: fdf73dcce35167f3ed952a58f5a6f738\n",
      "Processing patient: fe26fd2bb25112b3c2ca93eb8e34f8ed\n",
      "Processing patient: fe45462987bacc32dbc7126119999392\n",
      "Processing patient: fe5c37e82b412833b8ad0abb57978377\n",
      "Processing patient: ff5d8e90500cf324e7b04a2f07cf0399\n",
      "Processing patient: ff8599dd7c1139be3bad5a0351ab749a\n",
      "Processing patient: ffe02fe7d2223743f7fb455dfaff3842\n",
      "Processing patient: R_004\n",
      "Processing patient: R_006\n",
      "Processing patient: R_013\n",
      "Processing patient: R_014\n",
      "Processing patient: R_019\n",
      "Processing patient: R_020\n",
      "Processing patient: R_022\n",
      "Processing patient: R_029\n",
      "Processing patient: R_033\n",
      "Processing patient: R_035\n",
      "Processing patient: R_036\n",
      "Processing patient: R_043\n",
      "Processing patient: R_053\n",
      "Processing patient: R_056\n",
      "Processing patient: R_061\n",
      "Processing patient: R_064\n",
      "Processing patient: R_065\n",
      "Processing patient: R_066\n",
      "Processing patient: R_069\n",
      "Processing patient: R_075\n",
      "Processing patient: R_077\n",
      "Processing patient: R_078\n",
      "Processing patient: R_093\n",
      "Processing patient: R_098\n"
     ]
    }
   ],
   "source": [
    "# Step 2: Preprocess data\n",
    "data = []\n",
    "targets = []\n",
    "for patient_id in os.listdir(dataset_path):\n",
    "    patient_folder = os.path.join(dataset_path, patient_id)\n",
    "    if os.path.isdir(patient_folder) and patient_id in labels:\n",
    "        print(f\"Processing patient: {patient_id}\")\n",
    "        processed_slices = preprocess_patient(patient_folder)\n",
    "        data.append(processed_slices)\n",
    "        targets.append(labels[patient_id])"
   ]
  },
  {
   "cell_type": "code",
   "execution_count": 48,
   "metadata": {},
   "outputs": [],
   "source": [
    "# Convert to NumPy arrays\n",
    "data = np.array(data)\n",
    "targets = np.array(targets)"
   ]
  },
  {
   "cell_type": "code",
   "execution_count": 49,
   "metadata": {},
   "outputs": [
    {
     "data": {
      "text/plain": [
       "(74, 64, 128, 128)"
      ]
     },
     "execution_count": 49,
     "metadata": {},
     "output_type": "execute_result"
    }
   ],
   "source": [
    "data.shape"
   ]
  },
  {
   "cell_type": "code",
   "execution_count": 50,
   "metadata": {},
   "outputs": [
    {
     "data": {
      "text/plain": [
       "(74,)"
      ]
     },
     "execution_count": 50,
     "metadata": {},
     "output_type": "execute_result"
    }
   ],
   "source": [
    "targets.shape"
   ]
  },
  {
   "cell_type": "code",
   "execution_count": 51,
   "metadata": {},
   "outputs": [],
   "source": [
    "from sklearn.model_selection import train_test_split"
   ]
  },
  {
   "cell_type": "code",
   "execution_count": 52,
   "metadata": {},
   "outputs": [],
   "source": [
    "from sklearn.model_selection import train_test_split\n",
    "\n",
    "# Split data into train and validation sets (80% train, 20% validation)\n",
    "X_train, X_valid, y_train, y_valid = train_test_split(data, targets, test_size=0.3, random_state=42)"
   ]
  },
  {
   "cell_type": "code",
   "execution_count": 56,
   "metadata": {},
   "outputs": [
    {
     "name": "stdout",
     "output_type": "stream",
     "text": [
      "Data preprocessing complete!\n",
      "Train data:X (51, 64, 128, 128) - Y (51,), Validation data:X (23, 64, 128, 128) - Y (23,)\n"
     ]
    }
   ],
   "source": [
    "# Step 4: Save preprocessed data\n",
    "np.save(\"datasets/X_train.npy\", X_train)\n",
    "np.save(\"datasets/y_train.npy\", y_train)\n",
    "np.save(\"datasets/X_valid.npy\", X_valid)\n",
    "np.save(\"datasets/y_valid.npy\", y_valid)\n",
    "\n",
    "\n",
    "print(\"Data preprocessing complete!\")\n",
    "print(f\"Train data:X {X_train.shape} - Y {y_train.shape}, Validation data:X {X_valid.shape} - Y {y_valid.shape}\")"
   ]
  },
  {
   "cell_type": "code",
   "execution_count": 55,
   "metadata": {},
   "outputs": [
    {
     "data": {
      "text/plain": [
       "0    37\n",
       "1    37\n",
       "Name: cancer, dtype: int64"
      ]
     },
     "execution_count": 55,
     "metadata": {},
     "output_type": "execute_result"
    }
   ],
   "source": [
    "labels_df['cancer'].value_counts()"
   ]
  }
 ],
 "metadata": {
  "kernelspec": {
   "display_name": "Python 3",
   "language": "python",
   "name": "python3"
  },
  "language_info": {
   "codemirror_mode": {
    "name": "ipython",
    "version": 3
   },
   "file_extension": ".py",
   "mimetype": "text/x-python",
   "name": "python",
   "nbconvert_exporter": "python",
   "pygments_lexer": "ipython3",
   "version": "3.12.7"
  }
 },
 "nbformat": 4,
 "nbformat_minor": 2
}
